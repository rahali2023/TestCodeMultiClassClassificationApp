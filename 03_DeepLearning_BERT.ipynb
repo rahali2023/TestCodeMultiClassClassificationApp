{
 "cells": [
  {
   "cell_type": "markdown",
   "metadata": {},
   "source": [
    "## Multi-Class Text Classification Using Deep Learning Algorithms"
   ]
  },
  {
   "cell_type": "code",
   "execution_count": null,
   "metadata": {},
   "outputs": [],
   "source": [
    "# Author : Abir Rahali <abirrahali2016@gmail.com>\n",
    "# Date   : 13-11-2023"
   ]
  },
  {
   "cell_type": "code",
   "execution_count": 1,
   "metadata": {},
   "outputs": [],
   "source": [
    "# Dataframe Packages\n",
    "import pandas as pd\n",
    "import numpy as np\n",
    "\n",
    "# Visalisation Packages\n",
    "import matplotlib.pyplot as plt\n",
    "plt.style.use('dark_background')\n",
    "%matplotlib inline\n",
    "import seaborn as sns\n",
    "\n",
    "# Text Processing Packages\n",
    "import string\n",
    "from nltk.corpus import stopwords\n",
    "from nltk.stem import PorterStemmer\n",
    "\n",
    "# Warning\n",
    "import warnings\n",
    "def warn(*args, **kwargs):\n",
    "    pass\n",
    "warnings.warn = warn\n",
    "from sklearn.model_selection import train_test_split\n",
    "\n",
    "\n",
    "# Deep Learning\n",
    "from transformers import AutoTokenizer, TFAutoModel\n",
    "from sklearn.preprocessing import LabelEncoder\n",
    "from tensorflow.keras.optimizers import Adam\n",
    "import tensorflow as tf"
   ]
  },
  {
   "cell_type": "code",
   "execution_count": 2,
   "metadata": {},
   "outputs": [],
   "source": [
    "TRAIN_DATA_PATH   = \"data/medical_tc_train.csv\"\n",
    "TEST_DATA_PATH    = \"data/medical_tc_test.csv\"\n",
    "\n",
    "TEXT_COLUMN_NAME  = \"medical_abstract\"\n",
    "LABEL_COLUMN_NAME = \"condition_label\"\n",
    "LABELS            = pd.read_csv(\"data/medical_tc_labels.csv\")[LABEL_COLUMN_NAME]\n",
    "num_classes = 5"
   ]
  },
  {
   "cell_type": "markdown",
   "metadata": {},
   "source": [
    "# I. Data"
   ]
  },
  {
   "cell_type": "code",
   "execution_count": 3,
   "metadata": {},
   "outputs": [
    {
     "name": "stdout",
     "output_type": "stream",
     "text": [
      "Step 1/8 : Load the data files\n",
      "[5 1 2 3 4]\n",
      "5\n",
      "(11550, 2)\n",
      "(2888, 2)\n"
     ]
    },
    {
     "data": {
      "text/html": [
       "<div>\n",
       "<style scoped>\n",
       "    .dataframe tbody tr th:only-of-type {\n",
       "        vertical-align: middle;\n",
       "    }\n",
       "\n",
       "    .dataframe tbody tr th {\n",
       "        vertical-align: top;\n",
       "    }\n",
       "\n",
       "    .dataframe thead th {\n",
       "        text-align: right;\n",
       "    }\n",
       "</style>\n",
       "<table border=\"1\" class=\"dataframe\">\n",
       "  <thead>\n",
       "    <tr style=\"text-align: right;\">\n",
       "      <th></th>\n",
       "      <th>condition_label</th>\n",
       "      <th>medical_abstract</th>\n",
       "    </tr>\n",
       "  </thead>\n",
       "  <tbody>\n",
       "    <tr>\n",
       "      <th>0</th>\n",
       "      <td>5</td>\n",
       "      <td>Tissue changes around loose prostheses. A cani...</td>\n",
       "    </tr>\n",
       "    <tr>\n",
       "      <th>1</th>\n",
       "      <td>1</td>\n",
       "      <td>Neuropeptide Y and neuron-specific enolase lev...</td>\n",
       "    </tr>\n",
       "    <tr>\n",
       "      <th>2</th>\n",
       "      <td>2</td>\n",
       "      <td>Sexually transmitted diseases of the colon, re...</td>\n",
       "    </tr>\n",
       "    <tr>\n",
       "      <th>3</th>\n",
       "      <td>1</td>\n",
       "      <td>Lipolytic factors associated with murine and h...</td>\n",
       "    </tr>\n",
       "    <tr>\n",
       "      <th>4</th>\n",
       "      <td>3</td>\n",
       "      <td>Does carotid restenosis predict an increased r...</td>\n",
       "    </tr>\n",
       "  </tbody>\n",
       "</table>\n",
       "</div>"
      ],
      "text/plain": [
       "   condition_label                                   medical_abstract\n",
       "0                5  Tissue changes around loose prostheses. A cani...\n",
       "1                1  Neuropeptide Y and neuron-specific enolase lev...\n",
       "2                2  Sexually transmitted diseases of the colon, re...\n",
       "3                1  Lipolytic factors associated with murine and h...\n",
       "4                3  Does carotid restenosis predict an increased r..."
      ]
     },
     "execution_count": 3,
     "metadata": {},
     "output_type": "execute_result"
    }
   ],
   "source": [
    "print(f\"Step 1/8 : Load the data files\")\n",
    "\n",
    "test_df = pd.read_csv(TEST_DATA_PATH)\n",
    "train_df = pd.read_csv(TRAIN_DATA_PATH)\n",
    "\n",
    "# Unique labels in data\n",
    "print(train_df[LABEL_COLUMN_NAME].unique())\n",
    "print(len(train_df[LABEL_COLUMN_NAME].unique()))\n",
    "\n",
    "# Shape of data:\n",
    "print(train_df.shape)\n",
    "print(test_df.shape)\n",
    "\n",
    "train_df.head()"
   ]
  },
  {
   "cell_type": "code",
   "execution_count": 6,
   "metadata": {},
   "outputs": [
    {
     "name": "stdout",
     "output_type": "stream",
     "text": [
      "922.5533333333333\n",
      "848.916451335056\n"
     ]
    },
    {
     "data": {
      "text/html": [
       "<div>\n",
       "<style scoped>\n",
       "    .dataframe tbody tr th:only-of-type {\n",
       "        vertical-align: middle;\n",
       "    }\n",
       "\n",
       "    .dataframe tbody tr th {\n",
       "        vertical-align: top;\n",
       "    }\n",
       "\n",
       "    .dataframe thead th {\n",
       "        text-align: right;\n",
       "    }\n",
       "</style>\n",
       "<table border=\"1\" class=\"dataframe\">\n",
       "  <thead>\n",
       "    <tr style=\"text-align: right;\">\n",
       "      <th></th>\n",
       "      <th>condition_label</th>\n",
       "      <th>medical_abstract</th>\n",
       "      <th>text</th>\n",
       "      <th>length</th>\n",
       "    </tr>\n",
       "  </thead>\n",
       "  <tbody>\n",
       "    <tr>\n",
       "      <th>0</th>\n",
       "      <td>5</td>\n",
       "      <td>Tissue changes around loose prostheses. A cani...</td>\n",
       "      <td>tissu chang around loos prosthes canin model i...</td>\n",
       "      <td>649</td>\n",
       "    </tr>\n",
       "    <tr>\n",
       "      <th>1</th>\n",
       "      <td>1</td>\n",
       "      <td>Neuropeptide Y and neuron-specific enolase lev...</td>\n",
       "      <td>neuropeptid neuronspecif enolas level benign m...</td>\n",
       "      <td>760</td>\n",
       "    </tr>\n",
       "    <tr>\n",
       "      <th>2</th>\n",
       "      <td>2</td>\n",
       "      <td>Sexually transmitted diseases of the colon, re...</td>\n",
       "      <td>sexual transmit diseas colon rectum anu challe...</td>\n",
       "      <td>1141</td>\n",
       "    </tr>\n",
       "    <tr>\n",
       "      <th>3</th>\n",
       "      <td>1</td>\n",
       "      <td>Lipolytic factors associated with murine and h...</td>\n",
       "      <td>lipolyt factor associ murin human cancer cache...</td>\n",
       "      <td>687</td>\n",
       "    </tr>\n",
       "    <tr>\n",
       "      <th>4</th>\n",
       "      <td>3</td>\n",
       "      <td>Does carotid restenosis predict an increased r...</td>\n",
       "      <td>carotid restenosi predict increas risk late sy...</td>\n",
       "      <td>954</td>\n",
       "    </tr>\n",
       "  </tbody>\n",
       "</table>\n",
       "</div>"
      ],
      "text/plain": [
       "   condition_label                                   medical_abstract  \\\n",
       "0                5  Tissue changes around loose prostheses. A cani...   \n",
       "1                1  Neuropeptide Y and neuron-specific enolase lev...   \n",
       "2                2  Sexually transmitted diseases of the colon, re...   \n",
       "3                1  Lipolytic factors associated with murine and h...   \n",
       "4                3  Does carotid restenosis predict an increased r...   \n",
       "\n",
       "                                                text  length  \n",
       "0  tissu chang around loos prosthes canin model i...     649  \n",
       "1  neuropeptid neuronspecif enolas level benign m...     760  \n",
       "2  sexual transmit diseas colon rectum anu challe...    1141  \n",
       "3  lipolyt factor associ murin human cancer cache...     687  \n",
       "4  carotid restenosi predict increas risk late sy...     954  "
      ]
     },
     "execution_count": 6,
     "metadata": {},
     "output_type": "execute_result"
    }
   ],
   "source": [
    "# Data type change\n",
    "train_df['text'] = train_df[TEXT_COLUMN_NAME].astype(str)\n",
    "test_df['text'] = test_df[TEXT_COLUMN_NAME].astype(str)\n",
    "\n",
    "\n",
    "# Remove rows with missing values\n",
    "train_df.dropna(subset = ['text'], inplace = True)\n",
    "test_df.dropna(subset = ['text'], inplace = True)\n",
    "\n",
    "\n",
    "stop = stopwords.words('english')\n",
    "porter = PorterStemmer()\n",
    "\n",
    "\n",
    "def remove_punctuation(description):\n",
    "    \"\"\"The function to remove punctuation\"\"\"\n",
    "    table = str.maketrans('', '', string.punctuation)\n",
    "    return description.translate(table)\n",
    "\n",
    "def remove_stopwords(text):\n",
    "    \"\"\"The function to removing stopwords\"\"\"\n",
    "    text = [word.lower() for word in text.split() if word.lower() not in stop]\n",
    "    return \" \".join(text)\n",
    "\n",
    "def stemmer(stem_text):\n",
    "    \"\"\"The function to apply stemming\"\"\"\n",
    "    stem_text = [porter.stem(word) for word in stem_text.split()]\n",
    "    return \" \".join(stem_text)\n",
    "\n",
    "\n",
    "train_df['text'] = train_df['text'].apply(remove_punctuation)\n",
    "train_df['text'] = train_df['text'].apply(remove_stopwords)\n",
    "train_df['text'] = train_df['text'].apply(stemmer)\n",
    "\n",
    "test_df['text'] = test_df['text'].apply(remove_punctuation)\n",
    "test_df['text'] = test_df['text'].apply(remove_stopwords)\n",
    "test_df['text'] = test_df['text'].apply(stemmer)\n",
    "\n",
    "\n",
    "train_df['length'] = train_df['text'].apply(len)\n",
    "test_df['length'] = test_df['text'].apply(len)\n",
    "\n",
    "print(train_df['length'].unique().mean())\n",
    "print(test_df['length'].unique().mean())\n",
    "\n",
    "train_df.head()"
   ]
  },
  {
   "cell_type": "markdown",
   "metadata": {},
   "source": [
    "For deep learning models we need a validate set to teach the algorithm, so we split the train into train and validate"
   ]
  },
  {
   "cell_type": "code",
   "execution_count": 8,
   "metadata": {},
   "outputs": [
    {
     "name": "stdout",
     "output_type": "stream",
     "text": [
      "STEP : Split the train data to train and validate to be used in the deep learning models\n",
      "STEP : Define the test X & Y\n"
     ]
    }
   ],
   "source": [
    "print(\"STEP : Split the train data to train and validate to be used in the deep learning models\")\n",
    "x_train, x_validate, y_train, y_validate = train_test_split(train_df['text'], train_df['condition_label'], test_size=0.1, random_state=42)\n",
    "\n",
    "print(\"STEP : Define the test X & Y\")\n",
    "x_test = test_df['text']\n",
    "y_test = test_df['condition_label']"
   ]
  },
  {
   "cell_type": "code",
   "execution_count": 9,
   "metadata": {},
   "outputs": [
    {
     "name": "stdout",
     "output_type": "stream",
     "text": [
      "STEP : Encode the Y (label) in train, validate & test sets\n"
     ]
    }
   ],
   "source": [
    "print(\"STEP : Encode the Y (label) in train, validate & test sets\")\n",
    "encoder = LabelEncoder()\n",
    "encoder.fit(y_train)\n",
    "\n",
    "y_train = encoder.transform(y_train)\n",
    "y_train = tf.keras.utils.to_categorical(y_train, num_classes)\n",
    "\n",
    "y_validate = encoder.transform(y_validate)\n",
    "y_validate = tf.keras.utils.to_categorical(y_validate, num_classes)\n",
    "\n",
    "y_test = encoder.transform(y_test)\n",
    "y_test = tf.keras.utils.to_categorical(y_test, num_classes)"
   ]
  },
  {
   "cell_type": "markdown",
   "metadata": {},
   "source": [
    "# II. Model"
   ]
  },
  {
   "cell_type": "code",
   "execution_count": 10,
   "metadata": {},
   "outputs": [
    {
     "name": "stderr",
     "output_type": "stream",
     "text": [
      "Some weights of the PyTorch model were not used when initializing the TF 2.0 model TFDistilBertModel: ['vocab_transform.weight', 'vocab_transform.bias', 'vocab_layer_norm.bias', 'vocab_layer_norm.weight', 'vocab_projector.bias']\n",
      "- This IS expected if you are initializing TFDistilBertModel from a PyTorch model trained on another task or with another architecture (e.g. initializing a TFBertForSequenceClassification model from a BertForPreTraining model).\n",
      "- This IS NOT expected if you are initializing TFDistilBertModel from a PyTorch model that you expect to be exactly identical (e.g. initializing a TFBertForSequenceClassification model from a BertForSequenceClassification model).\n",
      "All the weights of TFDistilBertModel were initialized from the PyTorch model.\n",
      "If your task is similar to the task the model of the checkpoint was trained on, you can already use TFDistilBertModel for predictions without further training.\n"
     ]
    },
    {
     "name": "stdout",
     "output_type": "stream",
     "text": [
      "Epoch 1/2\n",
      "1300/1300 [==============================] - 11794s 9s/step - loss: 1.1828 - accuracy: 0.5120 - val_loss: 0.9477 - val_accuracy: 0.6035\n",
      "Epoch 2/2\n",
      "1300/1300 [==============================] - 10737s 8s/step - loss: 0.9479 - accuracy: 0.6139 - val_loss: 0.8790 - val_accuracy: 0.6382\n"
     ]
    },
    {
     "data": {
      "image/png": "[encoded data removed]",
      "text/plain": [
       "<Figure size 720x288 with 1 Axes>"
      ]
     },
     "metadata": {
      "needs_background": "dark"
     },
     "output_type": "display_data"
    },
    {
     "data": {
      "image/png": "[encoded data removed]",
      "text/plain": [
       "<Figure size 720x288 with 1 Axes>"
      ]
     },
     "metadata": {
      "needs_background": "dark"
     },
     "output_type": "display_data"
    },
    {
     "name": "stdout",
     "output_type": "stream",
     "text": [
      "91/91 [==============================] - 892s 10s/step - loss: 0.8790 - accuracy: 0.6382\n",
      "Test accuracy : 0.6381579041481018\n"
     ]
    }
   ],
   "source": [
    "tokenizer = AutoTokenizer.from_pretrained('distilbert-base-uncased')\n",
    "bert = TFAutoModel.from_pretrained('distilbert-base-uncased')\n",
    "\n",
    "for layer in bert.layers:\n",
    "    layer.trainable = True\n",
    "\n",
    "# Tokenization of the data\n",
    "def text_encode(text, tokenizer, max_len=100):\n",
    "    tokens = text.apply(lambda x: tokenizer(x,\n",
    "                                            return_tensors = 'tf', \n",
    "                                            truncation = True,\n",
    "                                            padding = 'max_length',\n",
    "                                            max_length = max_len, \n",
    "                                            add_special_tokens = True))\n",
    "    input_ids= []\n",
    "    attention_mask=[]\n",
    "    for item in tokens:\n",
    "        input_ids.append(item['input_ids'])\n",
    "        attention_mask.append(item['attention_mask'])\n",
    "    input_ids, attention_mask=np.squeeze(input_ids), np.squeeze(attention_mask)\n",
    "\n",
    "    return [input_ids,attention_mask]\n",
    "\n",
    "\n",
    "# Model Creation\n",
    "def build_model(bert_model, maxlen=100):\n",
    "    input_ids = tf.keras.Input(shape=(maxlen,),dtype=tf.int32, name='input_ids')\n",
    "    attention_mask = tf.keras.Input(shape=(maxlen,),dtype=tf.int32, name='attention_mask')\n",
    "    sequence_output = bert_model(input_ids,attention_mask=attention_mask)\n",
    "    \n",
    "    output = sequence_output[0][:,0,:]\n",
    "    output = tf.keras.layers.Dense(32,activation='relu')(output)\n",
    "    output = tf.keras.layers.Dropout(0.2)(output)\n",
    "    output = tf.keras.layers.Dense(5,activation='softmax')(output)\n",
    "    \n",
    "    model = tf.keras.models.Model(inputs = [input_ids,attention_mask], outputs = [output])\n",
    "    model.compile(Adam(learning_rate=1e-5), loss='categorical_crossentropy', metrics=['accuracy'])\n",
    "    \n",
    "    return model\n",
    "\n",
    "\n",
    "# Transform the data\n",
    "X_train_input_ids, X_train_attention_mask = text_encode(x_train, tokenizer, max_len=512)\n",
    "X_validate_input_ids, X_validate_attention_mask = text_encode(x_test, tokenizer, max_len=512)\n",
    "\n",
    "# Build the model\n",
    "model = build_model(bert, maxlen=512)\n",
    "\n",
    "\n",
    "history = model.fit(\n",
    "    [X_train_input_ids, X_train_attention_mask],\n",
    "    y_train,\n",
    "    batch_size=8,\n",
    "    validation_data=([X_validate_input_ids, X_validate_attention_mask], y_validate),\n",
    "    epochs=2\n",
    ")\n",
    "\n",
    "# Plot the history of training\n",
    "def plot_graphs(history, string):\n",
    "    fig, ax = plt.subplots(figsize = (10, 4))\n",
    "    plt.plot(history.history[string])\n",
    "    plt.plot(history.history['val_'+string])\n",
    "    plt.xlabel(\"Epochs\")\n",
    "    plt.ylabel(string)\n",
    "    plt.legend([string, 'val_'+string])\n",
    "    plt.show()\n",
    "\n",
    "\n",
    "plot_graphs(history, \"accuracy\")\n",
    "plot_graphs(history, \"loss\")"
   ]
  },
  {
   "cell_type": "markdown",
   "metadata": {},
   "source": [
    "Testing"
   ]
  },
  {
   "cell_type": "code",
   "execution_count": 11,
   "metadata": {},
   "outputs": [
    {
     "name": "stdout",
     "output_type": "stream",
     "text": [
      "91/91 [==============================] - 1009s 11s/step - loss: 0.8790 - accuracy: 0.6382\n",
      "Test accuracy : 0.6381579041481018\n"
     ]
    }
   ],
   "source": [
    "X_test_input_ids, X_test_attention_mask = text_encode(x_test, tokenizer, max_len=512)\n",
    "loss, accuracy = model.evaluate([X_test_input_ids, X_test_attention_mask], y_test)\n",
    "print('Test accuracy :', accuracy)"
   ]
  },
  {
   "cell_type": "markdown",
   "metadata": {},
   "source": [
    "# III. Conclusion"
   ]
  },
  {
   "cell_type": "markdown",
   "metadata": {},
   "source": [
    "The application of RNN architectures, coupled with basic Keras tokenization, failed to yield significant improvements in predictive accuracy, given the limitations of low training epochs. However, a pivotal breakthrough emerged with the integration of DistilBERT fine-tuning, resulting in a notable accuracy increase to 63%. It is important to note that the reported success was achieved under constraints, with minimal investment in training epochs and no extensive hyperparameter tuning. This underscores the potential for further advancements with dedicated time and efforts towards more comprehensive model training and hyperparameter optimization in future iterations of this project."
   ]
  },
  {
   "cell_type": "markdown",
   "metadata": {},
   "source": [
    "**WHY ?** \n",
    "\n",
    "BERT (Bidirectional Encoder Representations from Transformers) outperforms traditional methods such as RNNs (Recurrent Neural Networks) and classical machine learning algorithms for text classification due to its unique architecture and pre-training strategy. Unlike traditional models that process text sequentially, BERT leverages the power of transformer architectures, allowing it to capture contextual information bidirectionally. This means that BERT considers both left and right context words when understanding the meaning of a word, resulting in a more nuanced and contextually aware representation. Furthermore, BERT is pre-trained on large corpora, learning rich contextualized representations of words in various contexts. This pre-training enables BERT to grasp semantic relationships, understand nuances, and capture the intricacies of language. Traditional models, including RNNs, struggle to capture long-range dependencies and may suffer from vanishing or exploding gradient problems during training. The attention mechanism in BERT allows it to assign different weights to different parts of the input sequence, focusing on the most relevant information. This attention mechanism is crucial for understanding context in natural language, making BERT highly effective for tasks like text classification. In contrast, traditional machine learning approaches often rely on handcrafted features and may struggle to capture the complexity and variability present in natural language. BERT's ability to adapt to the specifics of a given task during fine-tuning, coupled with its pre-trained contextualized representations, makes it a powerful tool for achieving state-of-the-art results in various natural language processing tasks, including text classification."
   ]
  },
  {
   "cell_type": "markdown",
   "metadata": {},
   "source": [
    "Future implementations of this task will place a greater emphasis on the refinement of transformer-based models through fine-tuning, leveraging higher computational power, particularly GPUs (Graphics Processing Units). This strategic approach aims to harness the enhanced capabilities of GPUs, optimizing the training process and allowing for more extensive exploration of hyperparameters, ultimately leading to improved performance and the attainment of state-of-the-art results in the targeted natural language processing task."
   ]
  }
 ],
 "metadata": {
  "kernelspec": {
   "display_name": "Python 3",
   "language": "python",
   "name": "python3"
  },
  "language_info": {
   "codemirror_mode": {
    "name": "ipython",
    "version": 3
   },
   "file_extension": ".py",
   "mimetype": "text/x-python",
   "name": "python",
   "nbconvert_exporter": "python",
   "pygments_lexer": "ipython3",
   "version": "3.8.9"
  }
 },
 "nbformat": 4,
 "nbformat_minor": 2
}
