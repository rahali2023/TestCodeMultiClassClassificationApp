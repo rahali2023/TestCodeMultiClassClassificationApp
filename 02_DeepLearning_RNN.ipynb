{
 "cells": [
  {
   "cell_type": "markdown",
   "metadata": {},
   "source": [
    "## Multi-Class Text Classification Using Deep Learning Algorithms"
   ]
  },
  {
   "cell_type": "code",
   "execution_count": 412,
   "metadata": {},
   "outputs": [],
   "source": [
    "# Author : Abir Rahali <abirrahali2016@gmail.com>\n",
    "# Date   : 13-11-2023"
   ]
  },
  {
   "cell_type": "code",
   "execution_count": 16,
   "metadata": {},
   "outputs": [],
   "source": [
    "# Load, explore and plot data\n",
    "import numpy as np\n",
    "import pandas as pd\n",
    "import seaborn as sns\n",
    "\n",
    "\n",
    "# Text Processing Packages\n",
    "import string\n",
    "from nltk.corpus import stopwords\n",
    "from nltk.stem import PorterStemmer\n",
    "\n",
    "\n",
    "import matplotlib.pyplot as plt\n",
    "plt.style.use('dark_background')\n",
    "from sklearn.preprocessing import LabelBinarizer, LabelEncoder\n",
    "%matplotlib inline\n",
    "\n",
    "from sklearn.model_selection import train_test_split\n",
    "import tensorflow as tf\n",
    "from tensorflow.keras.preprocessing.text import Tokenizer\n",
    "from tensorflow.keras.preprocessing.sequence import pad_sequences\n",
    "from tensorflow.keras.callbacks import EarlyStopping\n",
    "# Modeling\n",
    "from tensorflow.keras.models import Sequential\n",
    "from tensorflow.keras.layers import LSTM, GRU, Dense, Embedding, Dropout, GlobalAveragePooling1D, Flatten, SpatialDropout1D, Bidirectional"
   ]
  },
  {
   "cell_type": "code",
   "execution_count": 3,
   "metadata": {},
   "outputs": [
    {
     "name": "stdout",
     "output_type": "stream",
     "text": [
      "STEP : Defining pre-processing parameters\n"
     ]
    }
   ],
   "source": [
    "print(\"STEP : Defining pre-processing parameters\")\n",
    "\n",
    "num_classes   = 5\n",
    "max_len       = 900 \n",
    "trunc_type    = 'post'\n",
    "padding_type  = 'post'\n",
    "oov_tok       = '<OOV>' # out of vocabulary token\n",
    "vocab_size    = 1500\n",
    "embedding_dim = 900\n",
    "drop_value    = 0.2\n",
    "n_dense       = 24\n",
    "n_lstm        = 64\n",
    "drop_lstm     = 0.5\n",
    "num_epochs    = 5\n",
    "opt           = tf.keras.optimizers.legacy.Adam(learning_rate=0.01)"
   ]
  },
  {
   "cell_type": "markdown",
   "metadata": {},
   "source": []
  },
  {
   "cell_type": "code",
   "execution_count": 5,
   "metadata": {},
   "outputs": [
    {
     "name": "stdout",
     "output_type": "stream",
     "text": [
      "STEP : Load the data files\n",
      "INFO : List of labels in the dataset\n",
      "[5 1 2 3 4]\n",
      "INFO : Shape of the train data\n",
      "(11550, 2)\n",
      "INFO : Shape of the test data\n",
      "(2888, 2)\n",
      "INFO : Example of the train data samples\n"
     ]
    },
    {
     "data": {
      "text/html": [
       "<div>\n",
       "<style scoped>\n",
       "    .dataframe tbody tr th:only-of-type {\n",
       "        vertical-align: middle;\n",
       "    }\n",
       "\n",
       "    .dataframe tbody tr th {\n",
       "        vertical-align: top;\n",
       "    }\n",
       "\n",
       "    .dataframe thead th {\n",
       "        text-align: right;\n",
       "    }\n",
       "</style>\n",
       "<table border=\"1\" class=\"dataframe\">\n",
       "  <thead>\n",
       "    <tr style=\"text-align: right;\">\n",
       "      <th></th>\n",
       "      <th>condition_label</th>\n",
       "      <th>medical_abstract</th>\n",
       "    </tr>\n",
       "  </thead>\n",
       "  <tbody>\n",
       "    <tr>\n",
       "      <th>0</th>\n",
       "      <td>5</td>\n",
       "      <td>Tissue changes around loose prostheses. A cani...</td>\n",
       "    </tr>\n",
       "    <tr>\n",
       "      <th>1</th>\n",
       "      <td>1</td>\n",
       "      <td>Neuropeptide Y and neuron-specific enolase lev...</td>\n",
       "    </tr>\n",
       "    <tr>\n",
       "      <th>2</th>\n",
       "      <td>2</td>\n",
       "      <td>Sexually transmitted diseases of the colon, re...</td>\n",
       "    </tr>\n",
       "    <tr>\n",
       "      <th>3</th>\n",
       "      <td>1</td>\n",
       "      <td>Lipolytic factors associated with murine and h...</td>\n",
       "    </tr>\n",
       "    <tr>\n",
       "      <th>4</th>\n",
       "      <td>3</td>\n",
       "      <td>Does carotid restenosis predict an increased r...</td>\n",
       "    </tr>\n",
       "  </tbody>\n",
       "</table>\n",
       "</div>"
      ],
      "text/plain": [
       "   condition_label                                   medical_abstract\n",
       "0                5  Tissue changes around loose prostheses. A cani...\n",
       "1                1  Neuropeptide Y and neuron-specific enolase lev...\n",
       "2                2  Sexually transmitted diseases of the colon, re...\n",
       "3                1  Lipolytic factors associated with murine and h...\n",
       "4                3  Does carotid restenosis predict an increased r..."
      ]
     },
     "execution_count": 5,
     "metadata": {},
     "output_type": "execute_result"
    }
   ],
   "source": [
    "print(\"STEP : Load the data files\")\n",
    "test_df = pd.read_csv(\"data/medical_tc_test.csv\")\n",
    "train_df = pd.read_csv('data/medical_tc_train.csv')\n",
    "\n",
    "\n",
    "print(\"INFO : List of labels in the dataset\")\n",
    "print(train_df.condition_label.unique())\n",
    "\n",
    "\n",
    "print(\"INFO : Shape of the train data\")\n",
    "print(train_df.shape)\n",
    "print(\"INFO : Shape of the test data\")\n",
    "print(test_df.shape)\n",
    "\n",
    "print(\"INFO : Example of the train data samples\")\n",
    "train_df.head()"
   ]
  },
  {
   "cell_type": "markdown",
   "metadata": {},
   "source": [
    "### Preprocessing Block: \n",
    "\n",
    "See Machine Learning Notebook (01) for full comments"
   ]
  },
  {
   "cell_type": "code",
   "execution_count": 7,
   "metadata": {},
   "outputs": [
    {
     "name": "stdout",
     "output_type": "stream",
     "text": [
      "['i', \"you've\", 'himself', 'they', 'that', 'been', 'a', 'while', 'through', 'in', 'here', 'few', 'own', 'just', 're', 'doesn', 'ma', \"shouldn't\"]\n",
      "922.5533333333333\n",
      "848.916451335056\n"
     ]
    },
    {
     "data": {
      "text/html": [
       "<div>\n",
       "<style scoped>\n",
       "    .dataframe tbody tr th:only-of-type {\n",
       "        vertical-align: middle;\n",
       "    }\n",
       "\n",
       "    .dataframe tbody tr th {\n",
       "        vertical-align: top;\n",
       "    }\n",
       "\n",
       "    .dataframe thead th {\n",
       "        text-align: right;\n",
       "    }\n",
       "</style>\n",
       "<table border=\"1\" class=\"dataframe\">\n",
       "  <thead>\n",
       "    <tr style=\"text-align: right;\">\n",
       "      <th></th>\n",
       "      <th>condition_label</th>\n",
       "      <th>medical_abstract</th>\n",
       "      <th>text</th>\n",
       "      <th>length</th>\n",
       "    </tr>\n",
       "  </thead>\n",
       "  <tbody>\n",
       "    <tr>\n",
       "      <th>0</th>\n",
       "      <td>5</td>\n",
       "      <td>Tissue changes around loose prostheses. A cani...</td>\n",
       "      <td>tissu chang around loos prosthes canin model i...</td>\n",
       "      <td>649</td>\n",
       "    </tr>\n",
       "    <tr>\n",
       "      <th>1</th>\n",
       "      <td>1</td>\n",
       "      <td>Neuropeptide Y and neuron-specific enolase lev...</td>\n",
       "      <td>neuropeptid neuronspecif enolas level benign m...</td>\n",
       "      <td>760</td>\n",
       "    </tr>\n",
       "    <tr>\n",
       "      <th>2</th>\n",
       "      <td>2</td>\n",
       "      <td>Sexually transmitted diseases of the colon, re...</td>\n",
       "      <td>sexual transmit diseas colon rectum anu challe...</td>\n",
       "      <td>1141</td>\n",
       "    </tr>\n",
       "    <tr>\n",
       "      <th>3</th>\n",
       "      <td>1</td>\n",
       "      <td>Lipolytic factors associated with murine and h...</td>\n",
       "      <td>lipolyt factor associ murin human cancer cache...</td>\n",
       "      <td>687</td>\n",
       "    </tr>\n",
       "    <tr>\n",
       "      <th>4</th>\n",
       "      <td>3</td>\n",
       "      <td>Does carotid restenosis predict an increased r...</td>\n",
       "      <td>carotid restenosi predict increas risk late sy...</td>\n",
       "      <td>954</td>\n",
       "    </tr>\n",
       "  </tbody>\n",
       "</table>\n",
       "</div>"
      ],
      "text/plain": [
       "   condition_label                                   medical_abstract  \\\n",
       "0                5  Tissue changes around loose prostheses. A cani...   \n",
       "1                1  Neuropeptide Y and neuron-specific enolase lev...   \n",
       "2                2  Sexually transmitted diseases of the colon, re...   \n",
       "3                1  Lipolytic factors associated with murine and h...   \n",
       "4                3  Does carotid restenosis predict an increased r...   \n",
       "\n",
       "                                                text  length  \n",
       "0  tissu chang around loos prosthes canin model i...     649  \n",
       "1  neuropeptid neuronspecif enolas level benign m...     760  \n",
       "2  sexual transmit diseas colon rectum anu challe...    1141  \n",
       "3  lipolyt factor associ murin human cancer cache...     687  \n",
       "4  carotid restenosi predict increas risk late sy...     954  "
      ]
     },
     "execution_count": 7,
     "metadata": {},
     "output_type": "execute_result"
    }
   ],
   "source": [
    "# Data type change\n",
    "train_df['text'] = train_df['medical_abstract'].astype(str)\n",
    "test_df['text'] = test_df['medical_abstract'].astype(str)\n",
    "\n",
    "# Remove rows with missing values\n",
    "train_df.dropna(subset = ['text'], inplace = True)\n",
    "test_df.dropna(subset = ['text'], inplace = True)\n",
    "\n",
    "stop = stopwords.words('english')\n",
    "porter = PorterStemmer()\n",
    "\n",
    "def remove_punctuation(description):\n",
    "    \"\"\"The function to remove punctuation\"\"\"\n",
    "    table = str.maketrans('', '', string.punctuation)\n",
    "    return description.translate(table)\n",
    "\n",
    "def remove_stopwords(text):\n",
    "    \"\"\"The function to removing stopwords\"\"\"\n",
    "    text = [word.lower() for word in text.split() if word.lower() not in stop]\n",
    "    return \" \".join(text)\n",
    "\n",
    "def stemmer(stem_text):\n",
    "    \"\"\"The function to apply stemming\"\"\"\n",
    "    stem_text = [porter.stem(word) for word in stem_text.split()]\n",
    "    return \" \".join(stem_text)\n",
    "\n",
    "train_df['text'] = train_df['text'].apply(remove_punctuation)\n",
    "train_df['text'] = train_df['text'].apply(remove_stopwords)\n",
    "train_df['text'] = train_df['text'].apply(stemmer)\n",
    "\n",
    "test_df['text'] = test_df['text'].apply(remove_punctuation)\n",
    "test_df['text'] = test_df['text'].apply(remove_stopwords)\n",
    "test_df['text'] = test_df['text'].apply(stemmer)\n",
    "\n",
    "\n",
    "train_df['length'] = train_df['text'].apply(len)\n",
    "test_df['length'] = test_df['text'].apply(len)\n",
    "\n",
    "print(train_df['length'].unique().mean())\n",
    "print(test_df['length'].unique().mean())\n",
    "\n",
    "train_df.head()"
   ]
  },
  {
   "cell_type": "markdown",
   "metadata": {},
   "source": [
    "For deep learning models we need a validate set to teach the algorithm, so we split the train into train and validate"
   ]
  },
  {
   "cell_type": "code",
   "execution_count": 9,
   "metadata": {},
   "outputs": [
    {
     "name": "stdout",
     "output_type": "stream",
     "text": [
      "STEP : Split the train data to train and validate to be used in the deep learning models\n",
      "STEP : Define the test X & Y\n"
     ]
    }
   ],
   "source": [
    "print(\"STEP : Split the train data to train and validate to be used in the deep learning models\")\n",
    "x_train, x_validate, y_train, y_validate = train_test_split(train_df['text'], train_df['condition_label'], test_size=0.1, random_state=42)\n",
    "\n",
    "print(\"STEP : Define the test X & Y\")\n",
    "x_test = test_df['text']\n",
    "y_test = test_df['condition_label']"
   ]
  },
  {
   "cell_type": "code",
   "execution_count": 10,
   "metadata": {},
   "outputs": [
    {
     "name": "stdout",
     "output_type": "stream",
     "text": [
      "STEP : Encode the Y (label) in train, validate & test sets\n"
     ]
    }
   ],
   "source": [
    "print(\"STEP : Encode the Y (label) in train, validate & test sets\")\n",
    "encoder = LabelEncoder()\n",
    "encoder.fit(y_train)\n",
    "\n",
    "y_train = encoder.transform(y_train)\n",
    "y_train = tf.keras.utils.to_categorical(y_train, num_classes)\n",
    "\n",
    "y_validate = encoder.transform(y_validate)\n",
    "y_validate = tf.keras.utils.to_categorical(y_validate, num_classes)\n",
    "\n",
    "y_test = encoder.transform(y_test)\n",
    "y_test = tf.keras.utils.to_categorical(y_test, num_classes)"
   ]
  },
  {
   "cell_type": "markdown",
   "metadata": {},
   "source": [
    "For the tokenization we use basic tf.keras tokenizer"
   ]
  },
  {
   "cell_type": "code",
   "execution_count": 12,
   "metadata": {},
   "outputs": [
    {
     "name": "stdout",
     "output_type": "stream",
     "text": [
      "STEP : Create the tokenizer withe the train set and define the work index matrix\n"
     ]
    }
   ],
   "source": [
    "print(\"STEP : Create the tokenizer withe the train set and define the work index matrix\")\n",
    "tokenizer = Tokenizer(num_words = vocab_size, char_level = False, oov_token = oov_tok)\n",
    "tokenizer.fit_on_texts(x_train)\n",
    "word_index = tokenizer.word_index\n",
    "total_words = len(word_index)"
   ]
  },
  {
   "cell_type": "code",
   "execution_count": 13,
   "metadata": {},
   "outputs": [
    {
     "name": "stdout",
     "output_type": "stream",
     "text": [
      "STEP : Create the train, validate & test tensors\n",
      "INFO: Shape of training tensor:  (10395, 900)\n",
      "INFO: Shape of validation tensor:  (1155, 900)\n",
      "INFO: Shape of testing tensor:  (2888, 900)\n"
     ]
    }
   ],
   "source": [
    "print(\"STEP : Create the train, validate & test tensors\")\n",
    "\n",
    "training_sequences = tokenizer.texts_to_sequences(x_train)\n",
    "training_padded = pad_sequences(training_sequences, maxlen = max_len, padding = padding_type, truncating = trunc_type)\n",
    "\n",
    "validate_sequences = tokenizer.texts_to_sequences(x_validate)\n",
    "validate_padded = pad_sequences(validate_sequences, maxlen = max_len, padding = padding_type, truncating = trunc_type)\n",
    "\n",
    "testing_sequences = tokenizer.texts_to_sequences(x_test)\n",
    "testing_padded = pad_sequences(testing_sequences, maxlen = max_len, padding = padding_type, truncating = trunc_type)\n",
    "\n",
    "\n",
    "print('INFO: Shape of training tensor: ', training_padded.shape)\n",
    "print('INFO: Shape of validation tensor: ', validate_padded.shape)\n",
    "print('INFO: Shape of testing tensor: ', testing_padded.shape)"
   ]
  },
  {
   "cell_type": "markdown",
   "metadata": {},
   "source": [
    "# I. Dense"
   ]
  },
  {
   "cell_type": "code",
   "execution_count": 14,
   "metadata": {},
   "outputs": [
    {
     "name": "stdout",
     "output_type": "stream",
     "text": [
      "STEP : Define Model 01 (Dense)\n"
     ]
    }
   ],
   "source": [
    "print(\"STEP : Define Model 01 (Dense)\")\n",
    "model_01 = Sequential()\n",
    "model_01.add(Embedding(vocab_size, embedding_dim, input_length = max_len))\n",
    "model_01.add(GlobalAveragePooling1D())\n",
    "model_01.add(Dense(16, activation='relu'))\n",
    "model_01.add(Dense(64, activation='sigmoid'))\n",
    "model_01.add(Dense(5, activation='sigmoid'))\n",
    "model_01.compile(loss = 'categorical_crossentropy', optimizer = opt , metrics = ['accuracy'])"
   ]
  },
  {
   "cell_type": "code",
   "execution_count": 15,
   "metadata": {},
   "outputs": [
    {
     "name": "stdout",
     "output_type": "stream",
     "text": [
      "Epoch 1/100\n",
      "325/325 [==============================] - 31s 93ms/step - loss: 1.3469 - accuracy: 0.4431 - val_loss: 1.2153 - val_accuracy: 0.4926\n",
      "Epoch 2/100\n",
      "325/325 [==============================] - 30s 91ms/step - loss: 1.1079 - accuracy: 0.5462 - val_loss: 1.0372 - val_accuracy: 0.5732\n",
      "Epoch 3/100\n",
      "325/325 [==============================] - 29s 88ms/step - loss: 0.9931 - accuracy: 0.5933 - val_loss: 0.9864 - val_accuracy: 0.5939\n",
      "Epoch 4/100\n",
      "325/325 [==============================] - 28s 88ms/step - loss: 0.9297 - accuracy: 0.6170 - val_loss: 1.0149 - val_accuracy: 0.5766\n",
      "Epoch 5/100\n",
      "325/325 [==============================] - 29s 89ms/step - loss: 0.8966 - accuracy: 0.6257 - val_loss: 0.9808 - val_accuracy: 0.5896\n",
      "Epoch 6/100\n",
      "325/325 [==============================] - 30s 91ms/step - loss: 0.8482 - accuracy: 0.6520 - val_loss: 0.9835 - val_accuracy: 0.6035\n",
      "Epoch 7/100\n",
      "325/325 [==============================] - 31s 96ms/step - loss: 0.8042 - accuracy: 0.6666 - val_loss: 1.0034 - val_accuracy: 0.6052\n",
      "Epoch 8/100\n",
      "325/325 [==============================] - 30s 93ms/step - loss: 0.8020 - accuracy: 0.6612 - val_loss: 1.0103 - val_accuracy: 0.5619\n",
      "Epoch 9/100\n",
      "325/325 [==============================] - 29s 90ms/step - loss: 0.7712 - accuracy: 0.6704 - val_loss: 1.0439 - val_accuracy: 0.5662\n",
      "Epoch 10/100\n",
      "325/325 [==============================] - 29s 89ms/step - loss: 0.7675 - accuracy: 0.6760 - val_loss: 1.0329 - val_accuracy: 0.5706\n"
     ]
    }
   ],
   "source": [
    "early_stop = EarlyStopping(monitor='val_loss', patience=5)\n",
    "history = model_01.fit(training_padded,\n",
    "                    y_train,\n",
    "                    epochs=100, \n",
    "                    validation_data=(validate_padded, y_validate),\n",
    "                    callbacks =[early_stop],\n",
    "                    verbose=1)"
   ]
  },
  {
   "cell_type": "code",
   "execution_count": 17,
   "metadata": {},
   "outputs": [
    {
     "data": {
      "image/png": "[encoded data removed]",
      "text/plain": [
       "<Figure size 1000x400 with 1 Axes>"
      ]
     },
     "metadata": {},
     "output_type": "display_data"
    },
    {
     "data": {
      "image/png": "[encoded data removed]",
      "text/plain": [
       "<Figure size 1000x400 with 1 Axes>"
      ]
     },
     "metadata": {},
     "output_type": "display_data"
    }
   ],
   "source": [
    "def plot_graphs(history, string):\n",
    "    fig, ax = plt.subplots(figsize = (10, 4))\n",
    "    plt.plot(history.history[string])\n",
    "    plt.plot(history.history['val_'+string])\n",
    "    plt.xlabel(\"Epochs\")\n",
    "    plt.ylabel(string)\n",
    "    plt.legend([string, 'val_'+string])\n",
    "    plt.show()\n",
    "\n",
    "\n",
    "plot_graphs(history, \"accuracy\")\n",
    "plot_graphs(history, \"loss\")"
   ]
  },
  {
   "cell_type": "code",
   "execution_count": 18,
   "metadata": {},
   "outputs": [
    {
     "name": "stdout",
     "output_type": "stream",
     "text": [
      "41/41 - 10s - loss: 0.7107 - accuracy: 0.7021 - 10s/epoch - 236ms/step\n",
      "12/12 - 3s - loss: 1.0403 - accuracy: 0.5748 - 3s/epoch - 236ms/step\n",
      "Train accuracy: 70.21\n",
      "Valid accuracy: 57.48\n"
     ]
    }
   ],
   "source": [
    "train_dense_results = model_01.evaluate(training_padded, np.asarray(y_train), verbose=2, batch_size=256)\n",
    "test_dense_results = model_01.evaluate(testing_padded, np.asarray(y_test), verbose=2, batch_size=256)\n",
    "print(f'Train accuracy: {train_dense_results[1]*100:0.2f}')\n",
    "print(f'Valid accuracy: {test_dense_results[1]*100:0.2f}')"
   ]
  },
  {
   "cell_type": "markdown",
   "metadata": {},
   "source": [
    "# II. LSTM"
   ]
  },
  {
   "cell_type": "code",
   "execution_count": 19,
   "metadata": {},
   "outputs": [],
   "source": [
    "# Define LSTM Model \n",
    "model_02 = Sequential()\n",
    "model_02.add(Embedding(vocab_size, embedding_dim, input_length=max_len))\n",
    "model_02.add(SpatialDropout1D(drop_lstm))\n",
    "model_02.add(LSTM(n_lstm, return_sequences=False))\n",
    "model_02.add(Dropout(drop_lstm))\n",
    "model_02.add(Dense(5, activation='sigmoid'))\n",
    "model_02.compile(loss = 'categorical_crossentropy', optimizer = opt, metrics = ['accuracy'])"
   ]
  },
  {
   "cell_type": "code",
   "execution_count": 20,
   "metadata": {},
   "outputs": [
    {
     "name": "stdout",
     "output_type": "stream",
     "text": [
      "Epoch 1/2\n",
      "325/325 [==============================] - 392s 1s/step - loss: 1.5536 - accuracy: 0.3227 - val_loss: 1.5235 - val_accuracy: 0.3359\n",
      "Epoch 2/2\n",
      "325/325 [==============================] - 353s 1s/step - loss: 1.5405 - accuracy: 0.3281 - val_loss: 1.5254 - val_accuracy: 0.3359\n"
     ]
    }
   ],
   "source": [
    "early_stop = EarlyStopping(monitor='val_loss', patience=2)\n",
    "history = model_02.fit(training_padded,\n",
    "                     y_train,\n",
    "                     epochs=2, \n",
    "                     validation_data=(validate_padded, y_validate),\n",
    "                     callbacks =[early_stop],\n",
    "                     verbose=1)"
   ]
  },
  {
   "cell_type": "code",
   "execution_count": 402,
   "metadata": {},
   "outputs": [
    {
     "name": "stdout",
     "output_type": "stream",
     "text": [
      "41/41 - 5s - loss: 1.5083 - accuracy: 0.3465 - 5s/epoch - 130ms/step\n",
      "12/12 - 2s - loss: 1.5355 - accuracy: 0.3168 - 2s/epoch - 140ms/step\n",
      "Train accuracy: 34.65\n",
      "Valid accuracy: 31.68\n"
     ]
    }
   ],
   "source": [
    "train_dense_results = model_02.evaluate(training_padded, np.asarray(y_train), verbose=2, batch_size=256)\n",
    "test_dense_results = model_02.evaluate(testing_padded, np.asarray(y_test), verbose=2, batch_size=256)\n",
    "print(f'Train accuracy: {train_dense_results[1]*100:0.2f}')\n",
    "print(f'Valid accuracy: {test_dense_results[1]*100:0.2f}')"
   ]
  },
  {
   "cell_type": "markdown",
   "metadata": {},
   "source": [
    "# III. BILSTM"
   ]
  },
  {
   "cell_type": "code",
   "execution_count": 403,
   "metadata": {},
   "outputs": [],
   "source": [
    "model_03 = Sequential()\n",
    "model_03.add(Embedding(vocab_size, embedding_dim, input_length = max_len))\n",
    "model_03.add(Bidirectional(LSTM(n_lstm, return_sequences = False)))\n",
    "model_03.add(Dropout(drop_lstm))\n",
    "model_03.add(Dense(5, activation='sigmoid'))\n",
    "model_03.compile(loss = 'categorical_crossentropy', optimizer = opt, metrics=['accuracy'])"
   ]
  },
  {
   "cell_type": "code",
   "execution_count": 404,
   "metadata": {},
   "outputs": [
    {
     "name": "stdout",
     "output_type": "stream",
     "text": [
      "Epoch 1/5\n",
      "325/325 [==============================] - 44s 127ms/step - loss: 1.6454 - accuracy: 0.3034 - val_loss: 1.5006 - val_accuracy: 0.3524\n",
      "Epoch 2/5\n",
      "325/325 [==============================] - 39s 120ms/step - loss: 1.5330 - accuracy: 0.3396 - val_loss: 1.4926 - val_accuracy: 0.3446\n",
      "Epoch 3/5\n",
      "325/325 [==============================] - 40s 124ms/step - loss: 1.5106 - accuracy: 0.3471 - val_loss: 1.4782 - val_accuracy: 0.3619\n",
      "Epoch 4/5\n",
      "325/325 [==============================] - 42s 129ms/step - loss: 1.4959 - accuracy: 0.3598 - val_loss: 1.4460 - val_accuracy: 0.3784\n",
      "Epoch 5/5\n",
      "325/325 [==============================] - 41s 125ms/step - loss: 1.4759 - accuracy: 0.3668 - val_loss: 1.4580 - val_accuracy: 0.3758\n"
     ]
    }
   ],
   "source": [
    "early_stop = EarlyStopping(monitor = 'val_loss', patience = 2)\n",
    "history = model_03.fit(training_padded,\n",
    "                     y_train,\n",
    "                     epochs = num_epochs,\n",
    "                     validation_data = (validate_padded, y_validate),\n",
    "                     callbacks = [early_stop],\n",
    "                     verbose = 1)"
   ]
  },
  {
   "cell_type": "code",
   "execution_count": 405,
   "metadata": {},
   "outputs": [
    {
     "name": "stdout",
     "output_type": "stream",
     "text": [
      "41/41 - 10s - loss: 1.3981 - accuracy: 0.4056 - 10s/epoch - 249ms/step\n",
      "12/12 - 3s - loss: 1.4670 - accuracy: 0.3587 - 3s/epoch - 272ms/step\n",
      "Train accuracy: 40.56\n",
      "Valid accuracy: 35.87\n"
     ]
    }
   ],
   "source": [
    "train_dense_results = model_03.evaluate(training_padded, np.asarray(y_train), verbose=2, batch_size=256)\n",
    "test_dense_results = model_03.evaluate(testing_padded, np.asarray(y_test), verbose=2, batch_size=256)\n",
    "print(f'Train accuracy: {train_dense_results[1]*100:0.2f}')\n",
    "print(f'Valid accuracy: {test_dense_results[1]*100:0.2f}')"
   ]
  },
  {
   "cell_type": "markdown",
   "metadata": {},
   "source": [
    "# Compaire"
   ]
  },
  {
   "cell_type": "code",
   "execution_count": 406,
   "metadata": {},
   "outputs": [
    {
     "name": "stdout",
     "output_type": "stream",
     "text": [
      "91/91 [==============================] - 0s 3ms/step - loss: 1.1082 - accuracy: 0.5533\n",
      "Dense model loss and accuracy: [1.108203411102295, 0.5533241033554077] \n",
      "91/91 [==============================] - 3s 31ms/step - loss: 1.5355 - accuracy: 0.3168\n",
      "LSTM model loss and accuracy: [1.5354512929916382, 0.31682825088500977] \n",
      "91/91 [==============================] - 5s 53ms/step - loss: 1.4670 - accuracy: 0.3587\n",
      "Bi-LSTM model loss and accuracy: [1.4669564962387085, 0.35872575640678406] \n"
     ]
    }
   ],
   "source": [
    "# Comparing the four different models\n",
    "\n",
    "print(f\"Dense model loss and accuracy: {model_01.evaluate(testing_padded, y_test)} \" )\n",
    "print(f\"LSTM model loss and accuracy: {model_02.evaluate(testing_padded, y_test)} \" )\n",
    "print(f\"Bi-LSTM model loss and accuracy: {model_03.evaluate(testing_padded, y_test)} \" )"
   ]
  },
  {
   "cell_type": "markdown",
   "metadata": {},
   "source": [
    "# Predict"
   ]
  },
  {
   "cell_type": "code",
   "execution_count": 40,
   "metadata": {},
   "outputs": [
    {
     "name": "stdout",
     "output_type": "stream",
     "text": [
      "1/1 [==============================] - 0s 26ms/step\n",
      "1/1 [==============================] - 0s 25ms/step\n",
      "\n",
      "Predicted Class -> Cardiovascular diseases\n",
      "Prediction Confidence -> 63.93%\n"
     ]
    }
   ],
   "source": [
    "new_abstract = [\"Heart\"]\n",
    "\n",
    "categories_map = {\n",
    "    1: \"Neoplasms\",\n",
    "    2: \"Digestive system diseases\",\n",
    "    3: \"Nervous system diseases\",\n",
    "    4: \"Cardiovascular diseases\",\n",
    "    5: \"General pathological conditions\",\n",
    "}\n",
    "\n",
    "def predict(predict_msg):\n",
    "    new_seq = tokenizer.texts_to_sequences(predict_msg)\n",
    "    padded = pad_sequences(new_seq,\n",
    "                           maxlen = max_len,\n",
    "                           padding = padding_type,\n",
    "                           truncating = trunc_type)\n",
    "    predicted_class = np.argmax(model_01.predict(padded)[0])+1\n",
    "    category_name = categories_map[predicted_class]\n",
    "    confidence = \"%.2f\" % (max(model_01.predict(padded)[0])*100) + \"%\"\n",
    "    return category_name, confidence\n",
    "\n",
    "category_name, confidence = predict(new_abstract)\n",
    "\n",
    "print('\\nPredicted Class -> {}'.format(category_name))\n",
    "print('Prediction Confidence -> {}'.format(confidence))"
   ]
  },
  {
   "cell_type": "markdown",
   "metadata": {},
   "source": [
    "# Conclusion"
   ]
  },
  {
   "cell_type": "markdown",
   "metadata": {},
   "source": [
    "In our efforts to enhance text classification models, the application of LSTM and BiLSTM architectures with basic Keras tokenization demonstrated limited improvement in predictive accuracy, primarily due to the constraint of small training epochs (due to time giving to finish this task) and the absence of substantial hyperparameter tuning. If more time invested better results can be achieved."
   ]
  }
 ],
 "metadata": {
  "kernelspec": {
   "display_name": "Python 3",
   "language": "python",
   "name": "python3"
  },
  "language_info": {
   "codemirror_mode": {
    "name": "ipython",
    "version": 3
   },
   "file_extension": ".py",
   "mimetype": "text/x-python",
   "name": "python",
   "nbconvert_exporter": "python",
   "pygments_lexer": "ipython3",
   "version": "3.8.9"
  }
 },
 "nbformat": 4,
 "nbformat_minor": 2
}
